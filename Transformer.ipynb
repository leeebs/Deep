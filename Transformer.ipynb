{
  "cells": [
    {
      "cell_type": "markdown",
      "metadata": {
        "id": "view-in-github",
        "colab_type": "text"
      },
      "source": [
        "<a href=\"https://colab.research.google.com/github/leeebs/Deep/blob/main/Transformer.ipynb\" target=\"_parent\"><img src=\"https://colab.research.google.com/assets/colab-badge.svg\" alt=\"Open In Colab\"/></a>"
      ]
    },
    {
      "cell_type": "markdown",
      "metadata": {
        "id": "h9-QWz_pPujQ"
      },
      "source": [
        "# Transformer (Translation)"
      ]
    },
    {
      "cell_type": "code",
      "source": [
        "!pip install konlpy"
      ],
      "metadata": {
        "id": "WPE9kzwsP1SL"
      },
      "execution_count": null,
      "outputs": []
    },
    {
      "cell_type": "code",
      "source": [
        "from google.colab import drive\n",
        "drive.mount('/content/drive')"
      ],
      "metadata": {
        "colab": {
          "base_uri": "https://localhost:8080/"
        },
        "id": "r58_1rogQNkv",
        "outputId": "b4bd45d8-c8fa-4580-db19-9264b1a2f93d"
      },
      "execution_count": 5,
      "outputs": [
        {
          "output_type": "stream",
          "name": "stdout",
          "text": [
            "Mounted at /content/drive\n"
          ]
        }
      ]
    },
    {
      "cell_type": "code",
      "execution_count": 3,
      "metadata": {
        "id": "R-1951N2PujU"
      },
      "outputs": [],
      "source": [
        "import random\n",
        "import numpy as np\n",
        "import tensorflow as tf\n",
        "from konlpy.tag import Okt\n",
        "\n",
        "from tensorflow.keras import Model\n",
        "from tensorflow.keras import Sequential\n",
        "from tensorflow.keras.layers import Dense, Lambda, Layer, Embedding, LayerNormalization"
      ]
    },
    {
      "cell_type": "code",
      "source": [
        "%cd '/content/drive/MyDrive/Part5) 딥러닝 최신 트렌드/4. 자연어처리 분야 딥러닝 모델 ( Natural Language Processing )/data'"
      ],
      "metadata": {
        "colab": {
          "base_uri": "https://localhost:8080/"
        },
        "id": "cDRmJJo5QdeH",
        "outputId": "e94ba7e5-7d17-42a2-bd61-a3cb23a91a0b"
      },
      "execution_count": 6,
      "outputs": [
        {
          "output_type": "stream",
          "name": "stdout",
          "text": [
            "/content/drive/MyDrive/Part5) 딥러닝 최신 트렌드/4. 자연어처리 분야 딥러닝 모델 ( Natural Language Processing )/data\n"
          ]
        }
      ]
    },
    {
      "cell_type": "code",
      "execution_count": 7,
      "metadata": {
        "colab": {
          "base_uri": "https://localhost:8080/",
          "height": 35
        },
        "id": "on3jQRVhPujW",
        "outputId": "ab444720-7126-48d8-de66-df9d5ac8682b"
      },
      "outputs": [
        {
          "output_type": "execute_result",
          "data": {
            "text/plain": [
              "'/content/drive/MyDrive/Part5) 딥러닝 최신 트렌드/4. 자연어처리 분야 딥러닝 모델 ( Natural Language Processing )/data'"
            ],
            "application/vnd.google.colaboratory.intrinsic+json": {
              "type": "string"
            }
          },
          "metadata": {},
          "execution_count": 7
        }
      ],
      "source": [
        "%pwd"
      ]
    },
    {
      "cell_type": "code",
      "source": [
        "%ls"
      ],
      "metadata": {
        "colab": {
          "base_uri": "https://localhost:8080/"
        },
        "id": "JsYc4UgfQiJz",
        "outputId": "3e9ee99e-90e7-4826-c0a7-7be3d0a87505"
      },
      "execution_count": 8,
      "outputs": [
        {
          "output_type": "stream",
          "name": "stdout",
          "text": [
            "chatbot_data.csv\n"
          ]
        }
      ]
    },
    {
      "cell_type": "code",
      "execution_count": null,
      "metadata": {
        "id": "HA_6AT8GPujW"
      },
      "outputs": [],
      "source": [
        "# import os\n",
        "# os.chdir('/home/jeyong/Disks/hdd1/workspace/Jupyter/deeplearning_part3')"
      ]
    },
    {
      "cell_type": "code",
      "execution_count": 9,
      "metadata": {
        "id": "rC95fgMvPujW"
      },
      "outputs": [],
      "source": [
        "EPOCHS = 200\n",
        "NUM_WORDS = 2000"
      ]
    },
    {
      "cell_type": "markdown",
      "metadata": {
        "id": "z0nCJA_0PujX"
      },
      "source": [
        "## Dot-Scaled Attention"
      ]
    },
    {
      "cell_type": "code",
      "execution_count": 19,
      "metadata": {
        "id": "Gz2IS3icPujX"
      },
      "outputs": [],
      "source": [
        "class DotScaledAttention(Layer):\n",
        "    def __init__(self, d_emb, d_reduced, masked=False):\n",
        "        super().__init__()\n",
        "        self.q = Dense(d_reduced, input_shape=(-1, d_emb))\n",
        "        self.k = Dense(d_reduced, input_shape=(-1, d_emb))\n",
        "        self.v = Dense(d_reduced, input_shape=(-1, d_emb))\n",
        "        self.scale = Lambda(lambda x : x/np.sqrt(d_reduced))\n",
        "        self.masked = masked\n",
        "\n",
        "    def call(self, x, training=None, mask=None): # (q,k,v)\n",
        "        q = self.scale(self.q(x[0]))\n",
        "        k = self.k(x[1])\n",
        "        v = self.v(x[2])\n",
        "\n",
        "        k_T = tf.transpose(k, perm=[0,2,1])\n",
        "        comp = tf.matmul(q, k_T)\n",
        "\n",
        "        if self.masked: # Referred from https://github.com/LastRemote/Transformer-TF2.0\n",
        "            length = tf.shape(comp)[-1]\n",
        "            mask = tf.fill((length, length), -np.inf)\n",
        "            mask = tf.linalg.band_part(mask, 0, -1) # Get upper triangle\n",
        "            mask = tf.linalg.set_diag(mask, tf.zeros((length))) # Set diagonal to zeros to avoid operations with infinity\n",
        "            comp += mask\n",
        "        comp = tf.nn.softmax(comp, axis=-1)\n",
        "        return tf.matmul(comp, v)"
      ]
    },
    {
      "cell_type": "markdown",
      "metadata": {
        "id": "ySjisUXIPujY"
      },
      "source": [
        "## Multi-Head Attention"
      ]
    },
    {
      "cell_type": "code",
      "execution_count": 20,
      "metadata": {
        "id": "DUOZn8x3PujZ"
      },
      "outputs": [],
      "source": [
        "class MultiHeadAttention(Layer):\n",
        "    def __init__(self, num_head, d_emb, d_reduced, masked=False):\n",
        "        super().__init__()\n",
        "        self.attention_list = list()\n",
        "        for _ in range(num_head):\n",
        "            self.attention_list.append(DotScaledAttention(d_emb, d_reduced, masked))\n",
        "        self.linear = Dense(d_emb, input_shape=(-1, num_head * d_reduced))\n",
        "\n",
        "    def call(self, x, training=None, mask=None):\n",
        "        attention_list = [a(x) for a in self.attention_list]\n",
        "        concat = tf.concat(attention_list, axis=-1)\n",
        "        return  self.linear(concat)"
      ]
    },
    {
      "cell_type": "markdown",
      "metadata": {
        "id": "jaWs_4QwPujZ"
      },
      "source": [
        "## Encoder"
      ]
    },
    {
      "cell_type": "code",
      "execution_count": 24,
      "metadata": {
        "id": "UQb1PVX_Puja"
      },
      "outputs": [],
      "source": [
        "class Encoder(Layer):\n",
        "    def __init__(self, num_head, d_reduced):\n",
        "        super().__init__()\n",
        "        self.num_head = num_head\n",
        "        self.d_r = d_reduced\n",
        "        \n",
        "    \n",
        "    def build(self, input_shape):\n",
        "        self.multi_attention = MultiHeadAttention(self.num_head, input_shape[-1], self.d_r)\n",
        "        self.layer_norm1 = LayerNormalization(input_shape=input_shape)\n",
        "        self.dense1 = Dense(input_shape[-1]*4, input_shape=input_shape, activation='relu')\n",
        "        self.dense2 = Dense(input_shape[-1], \n",
        "                            input_shape=self.dense1.compute_output_shape(input_shape))\n",
        "        self.layer_norm2 = LayerNormalization(input_shape=input_shape)\n",
        "        super().build(input_shape)\n",
        "\n",
        "    def call(self, x, training=None, mask=None):\n",
        "        h = self.multi_attention((x,x,x))\n",
        "        ln1 = self.layer_norm1(x + h) \n",
        "\n",
        "        h = self.dense2(self.dense1(ln1))\n",
        "        return self.layer_norm2(h + ln1)\n",
        "\n",
        "    def compute_output_shape(self, input_shape):\n",
        "        return input_shape"
      ]
    },
    {
      "cell_type": "markdown",
      "metadata": {
        "id": "PDSSTOhiPuja"
      },
      "source": [
        "## Decoder"
      ]
    },
    {
      "cell_type": "code",
      "execution_count": 26,
      "metadata": {
        "id": "bIYyW0rUPuja"
      },
      "outputs": [],
      "source": [
        "class Decoder(Layer):\n",
        "    def __init__(self, num_head, d_reduced):\n",
        "        super().__init__()\n",
        "        self.num_head = num_head\n",
        "        self.d_r = d_reduced\n",
        "    \n",
        "    def build(self, input_shape):\n",
        "        self.self_attention = MultiHeadAttention(self.num_head, input_shape[0][-1], self.d_r, masked=True)\n",
        "        self.layer_norm1 = LayerNormalization(input_shape=input_shape)\n",
        "\n",
        "        self.multi_attention = MultiHeadAttention(self.num_head, input_shape[0][-1], self.d_r)\n",
        "        self.layer_norm2 = LayerNormalization(input_shape=input_shape)\n",
        "\n",
        "        self.dense1 = Dense(input_shape[0][-1]*4, input_shape=input_shape[0], activation='relu')\n",
        "        self.dense2 = Dense(input_shape[0][-1], \n",
        "                            input_shape=self.dense1.compute_output_shape(input_shape[0]))\n",
        "        self.layer_norm3 = LayerNormalization(input_shape=input_shape)\n",
        "        super().build(input_shape)\n",
        "\n",
        "    def call(self, inputs, training=None, mask=None):\n",
        "        x, context = inputs\n",
        "        h = self.self_attention((x,x,x))\n",
        "        ln1 = self.layer_norm1(x + h)\n",
        "\n",
        "        h = self.multi_attention((ln1, context, context))\n",
        "        ln2 = self.layer_norm2(ln1 + h)\n",
        "\n",
        "        h = self.dense2(self.dense1(ln2))\n",
        "        return self.layer_norm3(h + ln2)\n",
        "\n",
        "    def compute_output_shape(self, input_shape):\n",
        "        return input_shape"
      ]
    },
    {
      "cell_type": "markdown",
      "metadata": {
        "id": "kIxH4SQNPujb"
      },
      "source": [
        "## Positional Encoding"
      ]
    },
    {
      "cell_type": "code",
      "execution_count": 14,
      "metadata": {
        "id": "KxfbUsfhPujb"
      },
      "outputs": [],
      "source": [
        "class PositionalEncoding(Layer):  # Referred from https://github.com/LastRemote/Transformer-TF2.0\n",
        "    def __init__(self, max_len, d_emb):\n",
        "        super().__init__()\n",
        "        self.sinusoidal_encoding = np.array([self.get_positional_angle(pos, d_emb) for pos in range(max_len)], dtype=np.float32)\n",
        "        self.sinusoidal_encoding[:, 0::2] = np.sin(self.sinusoidal_encoding[:, 0::2])\n",
        "        self.sinusoidal_encoding[:, 1::2] = np.cos(self.sinusoidal_encoding[:, 1::2])\n",
        "        self.sinusoidal_encoding = tf.cast(self.sinusoidal_encoding, dtype=tf.float32)\n",
        "\n",
        "    def call(self, x, training=None, mask=None):\n",
        "        return x + self.sinusoidal_encoding[:tf.shape(x)[1]]\n",
        "\n",
        "    def compute_output_shape(self, input_shape):\n",
        "        return input_shape\n",
        "\n",
        "    def get_angle(self, pos, dim, d_emb):\n",
        "        return pos / np.power(10000, 2 * (dim // 2) / d_emb)\n",
        "\n",
        "    def get_positional_angle(self, pos, d_emb):\n",
        "        return [self.get_angle(pos, dim, d_emb) for dim in range(d_emb)]"
      ]
    },
    {
      "cell_type": "markdown",
      "metadata": {
        "id": "evg8wsmqPujc"
      },
      "source": [
        "## Transformer Architecture"
      ]
    },
    {
      "cell_type": "code",
      "execution_count": 28,
      "metadata": {
        "id": "Uz11oVX9Pujc"
      },
      "outputs": [],
      "source": [
        "class Transformer(Model):\n",
        "    def __init__(self, src_vocab, dst_vocab, max_len, d_emb, d_reduced, n_enc_layer, n_dec_layer, num_head):\n",
        "        super().__init__()\n",
        "        self.enc_emb = Embedding(src_vocab, d_emb)\n",
        "        self.dec_emb = Embedding(dst_vocab, d_emb)\n",
        "        self.pos_enc = PositionalEncoding(max_len, d_emb)\n",
        "\n",
        "        self.encoder = [Encoder(num_head, d_reduced) for _ in range(n_enc_layer)]\n",
        "        self.decoder = [Decoder(num_head, d_reduced) for _ in range(n_dec_layer)]\n",
        "\n",
        "        self.dense = Dense(dst_vocab, input_shape=(-1, d_emb))\n",
        "\n",
        "\n",
        "    def call(self, inputs, training=None, mask=None):\n",
        "        src_sent, dst_sent_shifted = inputs\n",
        "\n",
        "        h_enc = self.pos_enc(self.enc_emb(src_sent))\n",
        "        for enc in self.encoder:\n",
        "            h_enc = enc(h_enc)\n",
        "\n",
        "        h_dec = self.pos_enc(self.dec_emb(dst_sent_shifted))\n",
        "        for dec in self.decoder:\n",
        "            h_dec = dec([h_dec, h_enc])\n",
        "\n",
        "        return tf.nn.softmax(self.dense(h_dec), axis=-1)"
      ]
    },
    {
      "cell_type": "markdown",
      "metadata": {
        "id": "9HyIFOdXPujc"
      },
      "source": [
        "## Dataset 준비"
      ]
    },
    {
      "cell_type": "code",
      "execution_count": 16,
      "metadata": {
        "id": "zDYiKVnyPujd"
      },
      "outputs": [],
      "source": [
        "dataset_file = 'chatbot_data.csv' # acquired from 'http://www.aihub.or.kr' and modified\n",
        "okt = Okt()\n",
        "\n",
        "with open(dataset_file, 'r') as file:\n",
        "    lines = file.readlines()\n",
        "    seq = [' '.join(okt.morphs(line)) for line in lines]\n",
        "\n",
        "questions = seq[::2]\n",
        "answers = ['\\t ' + lines for lines in seq[1::2]]\n",
        "\n",
        "num_sample = len(questions)\n",
        "\n",
        "perm = list(range(num_sample))\n",
        "random.seed(0)\n",
        "random.shuffle(perm)\n",
        "\n",
        "train_q = list()\n",
        "train_a = list()\n",
        "test_q = list()\n",
        "test_a = list()\n",
        "\n",
        "for idx, qna in enumerate(zip(questions, answers)):\n",
        "    q, a = qna\n",
        "    if perm[idx] > num_sample//5:\n",
        "        train_q.append(q)\n",
        "        train_a.append(a)\n",
        "    else:\n",
        "        test_q.append(q)\n",
        "        test_a.append(a)\n",
        "\n",
        "tokenizer = tf.keras.preprocessing.text.Tokenizer(num_words=NUM_WORDS,\n",
        "                                                  filters='!\"#$%&()*+,-./:;<=>?@[\\\\]^_`{|}~')\n",
        "\n",
        "tokenizer.fit_on_texts(train_q + train_a)\n",
        "\n",
        "train_q_seq = tokenizer.texts_to_sequences(train_q)\n",
        "train_a_seq = tokenizer.texts_to_sequences(train_a)\n",
        "\n",
        "test_q_seq = tokenizer.texts_to_sequences(test_q)\n",
        "test_a_seq = tokenizer.texts_to_sequences(test_a)\n",
        "\n",
        "x_train = tf.keras.preprocessing.sequence.pad_sequences(train_q_seq,\n",
        "                                                        value=0,\n",
        "                                                        padding='pre',\n",
        "                                                        maxlen=64)\n",
        "y_train = tf.keras.preprocessing.sequence.pad_sequences(train_a_seq,\n",
        "                                                        value=0,\n",
        "                                                        padding='post',\n",
        "                                                        maxlen=65)\n",
        "y_train_shifted = np.concatenate([np.zeros((y_train.shape[0], 1)), y_train[:, 1:]], axis=1)\n",
        "\n",
        "\n",
        "x_test = tf.keras.preprocessing.sequence.pad_sequences(test_q_seq,\n",
        "                                                       value=0,\n",
        "                                                       padding='pre',\n",
        "                                                       maxlen=64)\n",
        "y_test = tf.keras.preprocessing.sequence.pad_sequences(test_a_seq,\n",
        "                                                       value=0,\n",
        "                                                       padding='post',\n",
        "                                                       maxlen=65)"
      ]
    },
    {
      "cell_type": "markdown",
      "metadata": {
        "id": "koWpRkB-Pujd"
      },
      "source": [
        "## Train using keras"
      ]
    },
    {
      "cell_type": "code",
      "execution_count": 27,
      "metadata": {
        "colab": {
          "base_uri": "https://localhost:8080/",
          "height": 455
        },
        "id": "RvUxOSZ0Puje",
        "outputId": "46263816-d7a8-48b3-d0b5-140b3fa6c4f4"
      },
      "outputs": [
        {
          "output_type": "stream",
          "name": "stdout",
          "text": [
            "80/80 [==============================] - 3s 42ms/step - loss: 6.5358e-04 - accuracy: 1.0000\n",
            "Epoch 105/200\n",
            "80/80 [==============================] - 3s 42ms/step - loss: 6.2182e-04 - accuracy: 1.0000\n",
            "Epoch 106/200\n",
            "71/80 [=========================>....] - ETA: 0s - loss: 6.0947e-04 - accuracy: 1.0000"
          ]
        },
        {
          "output_type": "error",
          "ename": "KeyboardInterrupt",
          "evalue": "ignored",
          "traceback": [
            "\u001b[0;31m---------------------------------------------------------------------------\u001b[0m",
            "\u001b[0;31mKeyboardInterrupt\u001b[0m                         Traceback (most recent call last)",
            "\u001b[0;32m<ipython-input-27-0350cdea00ef>\u001b[0m in \u001b[0;36m<module>\u001b[0;34m()\u001b[0m\n\u001b[1;32m      4\u001b[0m               \u001b[0mloss\u001b[0m\u001b[0;34m=\u001b[0m\u001b[0;34m'sparse_categorical_crossentropy'\u001b[0m\u001b[0;34m,\u001b[0m\u001b[0;34m\u001b[0m\u001b[0;34m\u001b[0m\u001b[0m\n\u001b[1;32m      5\u001b[0m               metrics=['accuracy'])\n\u001b[0;32m----> 6\u001b[0;31m \u001b[0mtransformer\u001b[0m\u001b[0;34m.\u001b[0m\u001b[0mfit\u001b[0m\u001b[0;34m(\u001b[0m\u001b[0;34m[\u001b[0m\u001b[0mx_train\u001b[0m\u001b[0;34m,\u001b[0m \u001b[0my_train_shifted\u001b[0m\u001b[0;34m]\u001b[0m\u001b[0;34m,\u001b[0m \u001b[0my_train\u001b[0m\u001b[0;34m,\u001b[0m \u001b[0mbatch_size\u001b[0m\u001b[0;34m=\u001b[0m\u001b[0;36m5\u001b[0m\u001b[0;34m,\u001b[0m \u001b[0mepochs\u001b[0m\u001b[0;34m=\u001b[0m\u001b[0mEPOCHS\u001b[0m\u001b[0;34m)\u001b[0m\u001b[0;34m\u001b[0m\u001b[0;34m\u001b[0m\u001b[0m\n\u001b[0m",
            "\u001b[0;32m/usr/local/lib/python3.7/dist-packages/keras/utils/traceback_utils.py\u001b[0m in \u001b[0;36merror_handler\u001b[0;34m(*args, **kwargs)\u001b[0m\n\u001b[1;32m     62\u001b[0m     \u001b[0mfiltered_tb\u001b[0m \u001b[0;34m=\u001b[0m \u001b[0;32mNone\u001b[0m\u001b[0;34m\u001b[0m\u001b[0;34m\u001b[0m\u001b[0m\n\u001b[1;32m     63\u001b[0m     \u001b[0;32mtry\u001b[0m\u001b[0;34m:\u001b[0m\u001b[0;34m\u001b[0m\u001b[0;34m\u001b[0m\u001b[0m\n\u001b[0;32m---> 64\u001b[0;31m       \u001b[0;32mreturn\u001b[0m \u001b[0mfn\u001b[0m\u001b[0;34m(\u001b[0m\u001b[0;34m*\u001b[0m\u001b[0margs\u001b[0m\u001b[0;34m,\u001b[0m \u001b[0;34m**\u001b[0m\u001b[0mkwargs\u001b[0m\u001b[0;34m)\u001b[0m\u001b[0;34m\u001b[0m\u001b[0;34m\u001b[0m\u001b[0m\n\u001b[0m\u001b[1;32m     65\u001b[0m     \u001b[0;32mexcept\u001b[0m \u001b[0mException\u001b[0m \u001b[0;32mas\u001b[0m \u001b[0me\u001b[0m\u001b[0;34m:\u001b[0m  \u001b[0;31m# pylint: disable=broad-except\u001b[0m\u001b[0;34m\u001b[0m\u001b[0;34m\u001b[0m\u001b[0m\n\u001b[1;32m     66\u001b[0m       \u001b[0mfiltered_tb\u001b[0m \u001b[0;34m=\u001b[0m \u001b[0m_process_traceback_frames\u001b[0m\u001b[0;34m(\u001b[0m\u001b[0me\u001b[0m\u001b[0;34m.\u001b[0m\u001b[0m__traceback__\u001b[0m\u001b[0;34m)\u001b[0m\u001b[0;34m\u001b[0m\u001b[0;34m\u001b[0m\u001b[0m\n",
            "\u001b[0;32m/usr/local/lib/python3.7/dist-packages/keras/engine/training.py\u001b[0m in \u001b[0;36mfit\u001b[0;34m(self, x, y, batch_size, epochs, verbose, callbacks, validation_split, validation_data, shuffle, class_weight, sample_weight, initial_epoch, steps_per_epoch, validation_steps, validation_batch_size, validation_freq, max_queue_size, workers, use_multiprocessing)\u001b[0m\n\u001b[1;32m   1382\u001b[0m                 _r=1):\n\u001b[1;32m   1383\u001b[0m               \u001b[0mcallbacks\u001b[0m\u001b[0;34m.\u001b[0m\u001b[0mon_train_batch_begin\u001b[0m\u001b[0;34m(\u001b[0m\u001b[0mstep\u001b[0m\u001b[0;34m)\u001b[0m\u001b[0;34m\u001b[0m\u001b[0;34m\u001b[0m\u001b[0m\n\u001b[0;32m-> 1384\u001b[0;31m               \u001b[0mtmp_logs\u001b[0m \u001b[0;34m=\u001b[0m \u001b[0mself\u001b[0m\u001b[0;34m.\u001b[0m\u001b[0mtrain_function\u001b[0m\u001b[0;34m(\u001b[0m\u001b[0miterator\u001b[0m\u001b[0;34m)\u001b[0m\u001b[0;34m\u001b[0m\u001b[0;34m\u001b[0m\u001b[0m\n\u001b[0m\u001b[1;32m   1385\u001b[0m               \u001b[0;32mif\u001b[0m \u001b[0mdata_handler\u001b[0m\u001b[0;34m.\u001b[0m\u001b[0mshould_sync\u001b[0m\u001b[0;34m:\u001b[0m\u001b[0;34m\u001b[0m\u001b[0;34m\u001b[0m\u001b[0m\n\u001b[1;32m   1386\u001b[0m                 \u001b[0mcontext\u001b[0m\u001b[0;34m.\u001b[0m\u001b[0masync_wait\u001b[0m\u001b[0;34m(\u001b[0m\u001b[0;34m)\u001b[0m\u001b[0;34m\u001b[0m\u001b[0;34m\u001b[0m\u001b[0m\n",
            "\u001b[0;32m/usr/local/lib/python3.7/dist-packages/tensorflow/python/util/traceback_utils.py\u001b[0m in \u001b[0;36merror_handler\u001b[0;34m(*args, **kwargs)\u001b[0m\n\u001b[1;32m    148\u001b[0m     \u001b[0mfiltered_tb\u001b[0m \u001b[0;34m=\u001b[0m \u001b[0;32mNone\u001b[0m\u001b[0;34m\u001b[0m\u001b[0;34m\u001b[0m\u001b[0m\n\u001b[1;32m    149\u001b[0m     \u001b[0;32mtry\u001b[0m\u001b[0;34m:\u001b[0m\u001b[0;34m\u001b[0m\u001b[0;34m\u001b[0m\u001b[0m\n\u001b[0;32m--> 150\u001b[0;31m       \u001b[0;32mreturn\u001b[0m \u001b[0mfn\u001b[0m\u001b[0;34m(\u001b[0m\u001b[0;34m*\u001b[0m\u001b[0margs\u001b[0m\u001b[0;34m,\u001b[0m \u001b[0;34m**\u001b[0m\u001b[0mkwargs\u001b[0m\u001b[0;34m)\u001b[0m\u001b[0;34m\u001b[0m\u001b[0;34m\u001b[0m\u001b[0m\n\u001b[0m\u001b[1;32m    151\u001b[0m     \u001b[0;32mexcept\u001b[0m \u001b[0mException\u001b[0m \u001b[0;32mas\u001b[0m \u001b[0me\u001b[0m\u001b[0;34m:\u001b[0m\u001b[0;34m\u001b[0m\u001b[0;34m\u001b[0m\u001b[0m\n\u001b[1;32m    152\u001b[0m       \u001b[0mfiltered_tb\u001b[0m \u001b[0;34m=\u001b[0m \u001b[0m_process_traceback_frames\u001b[0m\u001b[0;34m(\u001b[0m\u001b[0me\u001b[0m\u001b[0;34m.\u001b[0m\u001b[0m__traceback__\u001b[0m\u001b[0;34m)\u001b[0m\u001b[0;34m\u001b[0m\u001b[0;34m\u001b[0m\u001b[0m\n",
            "\u001b[0;32m/usr/local/lib/python3.7/dist-packages/tensorflow/python/eager/def_function.py\u001b[0m in \u001b[0;36m__call__\u001b[0;34m(self, *args, **kwds)\u001b[0m\n\u001b[1;32m    913\u001b[0m \u001b[0;34m\u001b[0m\u001b[0m\n\u001b[1;32m    914\u001b[0m       \u001b[0;32mwith\u001b[0m \u001b[0mOptionalXlaContext\u001b[0m\u001b[0;34m(\u001b[0m\u001b[0mself\u001b[0m\u001b[0;34m.\u001b[0m\u001b[0m_jit_compile\u001b[0m\u001b[0;34m)\u001b[0m\u001b[0;34m:\u001b[0m\u001b[0;34m\u001b[0m\u001b[0;34m\u001b[0m\u001b[0m\n\u001b[0;32m--> 915\u001b[0;31m         \u001b[0mresult\u001b[0m \u001b[0;34m=\u001b[0m \u001b[0mself\u001b[0m\u001b[0;34m.\u001b[0m\u001b[0m_call\u001b[0m\u001b[0;34m(\u001b[0m\u001b[0;34m*\u001b[0m\u001b[0margs\u001b[0m\u001b[0;34m,\u001b[0m \u001b[0;34m**\u001b[0m\u001b[0mkwds\u001b[0m\u001b[0;34m)\u001b[0m\u001b[0;34m\u001b[0m\u001b[0;34m\u001b[0m\u001b[0m\n\u001b[0m\u001b[1;32m    916\u001b[0m \u001b[0;34m\u001b[0m\u001b[0m\n\u001b[1;32m    917\u001b[0m       \u001b[0mnew_tracing_count\u001b[0m \u001b[0;34m=\u001b[0m \u001b[0mself\u001b[0m\u001b[0;34m.\u001b[0m\u001b[0mexperimental_get_tracing_count\u001b[0m\u001b[0;34m(\u001b[0m\u001b[0;34m)\u001b[0m\u001b[0;34m\u001b[0m\u001b[0;34m\u001b[0m\u001b[0m\n",
            "\u001b[0;32m/usr/local/lib/python3.7/dist-packages/tensorflow/python/eager/def_function.py\u001b[0m in \u001b[0;36m_call\u001b[0;34m(self, *args, **kwds)\u001b[0m\n\u001b[1;32m    945\u001b[0m       \u001b[0;31m# In this case we have created variables on the first call, so we run the\u001b[0m\u001b[0;34m\u001b[0m\u001b[0;34m\u001b[0m\u001b[0;34m\u001b[0m\u001b[0m\n\u001b[1;32m    946\u001b[0m       \u001b[0;31m# defunned version which is guaranteed to never create variables.\u001b[0m\u001b[0;34m\u001b[0m\u001b[0;34m\u001b[0m\u001b[0;34m\u001b[0m\u001b[0m\n\u001b[0;32m--> 947\u001b[0;31m       \u001b[0;32mreturn\u001b[0m \u001b[0mself\u001b[0m\u001b[0;34m.\u001b[0m\u001b[0m_stateless_fn\u001b[0m\u001b[0;34m(\u001b[0m\u001b[0;34m*\u001b[0m\u001b[0margs\u001b[0m\u001b[0;34m,\u001b[0m \u001b[0;34m**\u001b[0m\u001b[0mkwds\u001b[0m\u001b[0;34m)\u001b[0m  \u001b[0;31m# pylint: disable=not-callable\u001b[0m\u001b[0;34m\u001b[0m\u001b[0;34m\u001b[0m\u001b[0m\n\u001b[0m\u001b[1;32m    948\u001b[0m     \u001b[0;32melif\u001b[0m \u001b[0mself\u001b[0m\u001b[0;34m.\u001b[0m\u001b[0m_stateful_fn\u001b[0m \u001b[0;32mis\u001b[0m \u001b[0;32mnot\u001b[0m \u001b[0;32mNone\u001b[0m\u001b[0;34m:\u001b[0m\u001b[0;34m\u001b[0m\u001b[0;34m\u001b[0m\u001b[0m\n\u001b[1;32m    949\u001b[0m       \u001b[0;31m# Release the lock early so that multiple threads can perform the call\u001b[0m\u001b[0;34m\u001b[0m\u001b[0;34m\u001b[0m\u001b[0;34m\u001b[0m\u001b[0m\n",
            "\u001b[0;32m/usr/local/lib/python3.7/dist-packages/tensorflow/python/eager/function.py\u001b[0m in \u001b[0;36m__call__\u001b[0;34m(self, *args, **kwargs)\u001b[0m\n\u001b[1;32m   2955\u001b[0m        filtered_flat_args) = self._maybe_define_function(args, kwargs)\n\u001b[1;32m   2956\u001b[0m     return graph_function._call_flat(\n\u001b[0;32m-> 2957\u001b[0;31m         filtered_flat_args, captured_inputs=graph_function.captured_inputs)  # pylint: disable=protected-access\n\u001b[0m\u001b[1;32m   2958\u001b[0m \u001b[0;34m\u001b[0m\u001b[0m\n\u001b[1;32m   2959\u001b[0m   \u001b[0;34m@\u001b[0m\u001b[0mproperty\u001b[0m\u001b[0;34m\u001b[0m\u001b[0;34m\u001b[0m\u001b[0m\n",
            "\u001b[0;32m/usr/local/lib/python3.7/dist-packages/tensorflow/python/eager/function.py\u001b[0m in \u001b[0;36m_call_flat\u001b[0;34m(self, args, captured_inputs, cancellation_manager)\u001b[0m\n\u001b[1;32m   1852\u001b[0m       \u001b[0;31m# No tape is watching; skip to running the function.\u001b[0m\u001b[0;34m\u001b[0m\u001b[0;34m\u001b[0m\u001b[0;34m\u001b[0m\u001b[0m\n\u001b[1;32m   1853\u001b[0m       return self._build_call_outputs(self._inference_function.call(\n\u001b[0;32m-> 1854\u001b[0;31m           ctx, args, cancellation_manager=cancellation_manager))\n\u001b[0m\u001b[1;32m   1855\u001b[0m     forward_backward = self._select_forward_and_backward_functions(\n\u001b[1;32m   1856\u001b[0m         \u001b[0margs\u001b[0m\u001b[0;34m,\u001b[0m\u001b[0;34m\u001b[0m\u001b[0;34m\u001b[0m\u001b[0m\n",
            "\u001b[0;32m/usr/local/lib/python3.7/dist-packages/tensorflow/python/eager/function.py\u001b[0m in \u001b[0;36mcall\u001b[0;34m(self, ctx, args, cancellation_manager)\u001b[0m\n\u001b[1;32m    502\u001b[0m               \u001b[0minputs\u001b[0m\u001b[0;34m=\u001b[0m\u001b[0margs\u001b[0m\u001b[0;34m,\u001b[0m\u001b[0;34m\u001b[0m\u001b[0;34m\u001b[0m\u001b[0m\n\u001b[1;32m    503\u001b[0m               \u001b[0mattrs\u001b[0m\u001b[0;34m=\u001b[0m\u001b[0mattrs\u001b[0m\u001b[0;34m,\u001b[0m\u001b[0;34m\u001b[0m\u001b[0;34m\u001b[0m\u001b[0m\n\u001b[0;32m--> 504\u001b[0;31m               ctx=ctx)\n\u001b[0m\u001b[1;32m    505\u001b[0m         \u001b[0;32melse\u001b[0m\u001b[0;34m:\u001b[0m\u001b[0;34m\u001b[0m\u001b[0;34m\u001b[0m\u001b[0m\n\u001b[1;32m    506\u001b[0m           outputs = execute.execute_with_cancellation(\n",
            "\u001b[0;32m/usr/local/lib/python3.7/dist-packages/tensorflow/python/eager/execute.py\u001b[0m in \u001b[0;36mquick_execute\u001b[0;34m(op_name, num_outputs, inputs, attrs, ctx, name)\u001b[0m\n\u001b[1;32m     53\u001b[0m     \u001b[0mctx\u001b[0m\u001b[0;34m.\u001b[0m\u001b[0mensure_initialized\u001b[0m\u001b[0;34m(\u001b[0m\u001b[0;34m)\u001b[0m\u001b[0;34m\u001b[0m\u001b[0;34m\u001b[0m\u001b[0m\n\u001b[1;32m     54\u001b[0m     tensors = pywrap_tfe.TFE_Py_Execute(ctx._handle, device_name, op_name,\n\u001b[0;32m---> 55\u001b[0;31m                                         inputs, attrs, num_outputs)\n\u001b[0m\u001b[1;32m     56\u001b[0m   \u001b[0;32mexcept\u001b[0m \u001b[0mcore\u001b[0m\u001b[0;34m.\u001b[0m\u001b[0m_NotOkStatusException\u001b[0m \u001b[0;32mas\u001b[0m \u001b[0me\u001b[0m\u001b[0;34m:\u001b[0m\u001b[0;34m\u001b[0m\u001b[0;34m\u001b[0m\u001b[0m\n\u001b[1;32m     57\u001b[0m     \u001b[0;32mif\u001b[0m \u001b[0mname\u001b[0m \u001b[0;32mis\u001b[0m \u001b[0;32mnot\u001b[0m \u001b[0;32mNone\u001b[0m\u001b[0;34m:\u001b[0m\u001b[0;34m\u001b[0m\u001b[0;34m\u001b[0m\u001b[0m\n",
            "\u001b[0;31mKeyboardInterrupt\u001b[0m: "
          ]
        }
      ],
      "source": [
        "transformer = Transformer(NUM_WORDS, NUM_WORDS, 128, 16, 16, 2, 2, 4) # Instantiating a new transformer model\n",
        "\n",
        "transformer.compile(optimizer='adam',\n",
        "              loss='sparse_categorical_crossentropy',\n",
        "              metrics=['accuracy'])\n",
        "transformer.fit([x_train, y_train_shifted], y_train, batch_size=5, epochs=EPOCHS)"
      ]
    },
    {
      "cell_type": "code",
      "source": [
        ""
      ],
      "metadata": {
        "id": "-GHKOUVjfTa1"
      },
      "execution_count": null,
      "outputs": []
    }
  ],
  "metadata": {
    "kernelspec": {
      "display_name": "Python 3.7.6 64-bit ('tf2.1': conda)",
      "language": "python",
      "name": "python37664bittf21condac68c7f25ff2a496b817884d812affa82"
    },
    "language_info": {
      "codemirror_mode": {
        "name": "ipython",
        "version": 3
      },
      "file_extension": ".py",
      "mimetype": "text/x-python",
      "name": "python",
      "nbconvert_exporter": "python",
      "pygments_lexer": "ipython3",
      "version": "3.7.6"
    },
    "colab": {
      "name": "Chapter4. Transformer_before.ipynb",
      "provenance": [],
      "include_colab_link": true
    }
  },
  "nbformat": 4,
  "nbformat_minor": 0
}